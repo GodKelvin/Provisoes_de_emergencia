{
  "nbformat": 4,
  "nbformat_minor": 0,
  "metadata": {
    "colab": {
      "name": "Trabalho_bd1_item_91_Kelvin_Lehrback",
      "provenance": [],
      "collapsed_sections": []
    },
    "kernelspec": {
      "name": "python3",
      "display_name": "Python 3"
    }
  },
  "cells": [
    {
      "cell_type": "markdown",
      "metadata": {
        "id": "CI_GTQH95Txh",
        "colab_type": "text"
      },
      "source": [
        "#Importando bibliotecas e realizando configurações"
      ]
    },
    {
      "cell_type": "code",
      "metadata": {
        "id": "rR8qrZCa5JSg",
        "colab_type": "code",
        "colab": {}
      },
      "source": [
        "import psycopg2\n",
        "import pandas as pd\n",
        "\n",
        "conn = psycopg2.connect(host=\"tuffi.db.elephantsql.com\", database=\"asiodfak\", user=\"asiodfak\", password=\"O1JF6GvgfDG7Bc13JRdVEEYUmgF5Q6FJ\")"
      ],
      "execution_count": null,
      "outputs": []
    },
    {
      "cell_type": "markdown",
      "metadata": {
        "id": "l7rvX7vc7uZ6",
        "colab_type": "text"
      },
      "source": [
        "#9.1 CONSULTAS DAS TABELAS COM TODOS OS DADOS INSERIDOS (Todas)"
      ]
    },
    {
      "cell_type": "markdown",
      "metadata": {
        "id": "qWMwnecZ9PCh",
        "colab_type": "text"
      },
      "source": [
        "### Objetivo: Obter todos os dados da tabela \"PESSOA\""
      ]
    },
    {
      "cell_type": "code",
      "metadata": {
        "id": "7lyFeh4P973v",
        "colab_type": "code",
        "colab": {
          "base_uri": "https://localhost:8080/",
          "height": 173
        },
        "outputId": "be476b9b-d62d-4f95-c6fe-e8f9e4966a62"
      },
      "source": [
        "pd.read_sql_query(\"select * from pessoa\", conn)"
      ],
      "execution_count": null,
      "outputs": [
        {
          "output_type": "execute_result",
          "data": {
            "text/html": [
              "<div>\n",
              "<style scoped>\n",
              "    .dataframe tbody tr th:only-of-type {\n",
              "        vertical-align: middle;\n",
              "    }\n",
              "\n",
              "    .dataframe tbody tr th {\n",
              "        vertical-align: top;\n",
              "    }\n",
              "\n",
              "    .dataframe thead th {\n",
              "        text-align: right;\n",
              "    }\n",
              "</style>\n",
              "<table border=\"1\" class=\"dataframe\">\n",
              "  <thead>\n",
              "    <tr style=\"text-align: right;\">\n",
              "      <th></th>\n",
              "      <th>cod_pessoa</th>\n",
              "      <th>fk_cod_grupo_familiar</th>\n",
              "      <th>nome_pessoa</th>\n",
              "      <th>cpf</th>\n",
              "      <th>data_nascimento</th>\n",
              "    </tr>\n",
              "  </thead>\n",
              "  <tbody>\n",
              "    <tr>\n",
              "      <th>0</th>\n",
              "      <td>1</td>\n",
              "      <td>1</td>\n",
              "      <td>Kelvin L</td>\n",
              "      <td>12345678901</td>\n",
              "      <td>1998-08-15</td>\n",
              "    </tr>\n",
              "    <tr>\n",
              "      <th>1</th>\n",
              "      <td>2</td>\n",
              "      <td>1</td>\n",
              "      <td>Valdeci G</td>\n",
              "      <td>21343546984</td>\n",
              "      <td>1977-09-03</td>\n",
              "    </tr>\n",
              "    <tr>\n",
              "      <th>2</th>\n",
              "      <td>3</td>\n",
              "      <td>1</td>\n",
              "      <td>Clara L</td>\n",
              "      <td>08775263728</td>\n",
              "      <td>2007-12-20</td>\n",
              "    </tr>\n",
              "    <tr>\n",
              "      <th>3</th>\n",
              "      <td>4</td>\n",
              "      <td>1</td>\n",
              "      <td>Kelen L</td>\n",
              "      <td>08635243647</td>\n",
              "      <td>1979-07-05</td>\n",
              "    </tr>\n",
              "  </tbody>\n",
              "</table>\n",
              "</div>"
            ],
            "text/plain": [
              "   cod_pessoa  fk_cod_grupo_familiar nome_pessoa          cpf data_nascimento\n",
              "0           1                      1    Kelvin L  12345678901      1998-08-15\n",
              "1           2                      1   Valdeci G  21343546984      1977-09-03\n",
              "2           3                      1     Clara L  08775263728      2007-12-20\n",
              "3           4                      1     Kelen L  08635243647      1979-07-05"
            ]
          },
          "metadata": {
            "tags": []
          },
          "execution_count": 13
        }
      ]
    },
    {
      "cell_type": "markdown",
      "metadata": {
        "id": "1Ctiplwe8cns",
        "colab_type": "text"
      },
      "source": [
        "### Objetivo: Obter todos os dados da tabela \"GRUPO_FAMILIAR\""
      ]
    },
    {
      "cell_type": "code",
      "metadata": {
        "id": "mEaarIoK74VL",
        "colab_type": "code",
        "colab": {
          "base_uri": "https://localhost:8080/",
          "height": 80
        },
        "outputId": "064e786b-9dea-4160-aa74-acfd3eef6758"
      },
      "source": [
        "pd.read_sql_query(\"select * from grupo_familiar\", conn)"
      ],
      "execution_count": null,
      "outputs": [
        {
          "output_type": "execute_result",
          "data": {
            "text/html": [
              "<div>\n",
              "<style scoped>\n",
              "    .dataframe tbody tr th:only-of-type {\n",
              "        vertical-align: middle;\n",
              "    }\n",
              "\n",
              "    .dataframe tbody tr th {\n",
              "        vertical-align: top;\n",
              "    }\n",
              "\n",
              "    .dataframe thead th {\n",
              "        text-align: right;\n",
              "    }\n",
              "</style>\n",
              "<table border=\"1\" class=\"dataframe\">\n",
              "  <thead>\n",
              "    <tr style=\"text-align: right;\">\n",
              "      <th></th>\n",
              "      <th>cod_grupo_familiar</th>\n",
              "      <th>nome_grupo_familiar</th>\n",
              "    </tr>\n",
              "  </thead>\n",
              "  <tbody>\n",
              "    <tr>\n",
              "      <th>0</th>\n",
              "      <td>1</td>\n",
              "      <td>Minha Casa</td>\n",
              "    </tr>\n",
              "  </tbody>\n",
              "</table>\n",
              "</div>"
            ],
            "text/plain": [
              "   cod_grupo_familiar nome_grupo_familiar\n",
              "0                   1          Minha Casa"
            ]
          },
          "metadata": {
            "tags": []
          },
          "execution_count": 8
        }
      ]
    },
    {
      "cell_type": "markdown",
      "metadata": {
        "id": "gOYqwOOm9azG",
        "colab_type": "text"
      },
      "source": [
        "### Objetivo: Obter todos os dados da tabela \"FORNECEDOR\""
      ]
    },
    {
      "cell_type": "code",
      "metadata": {
        "id": "4VkE8Ui79uhX",
        "colab_type": "code",
        "colab": {
          "base_uri": "https://localhost:8080/",
          "height": 173
        },
        "outputId": "3aeafdb1-6f23-40d9-b178-170fd39baf3c"
      },
      "source": [
        "pd.read_sql_query(\"select * from fornecedor\", conn)"
      ],
      "execution_count": null,
      "outputs": [
        {
          "output_type": "execute_result",
          "data": {
            "text/html": [
              "<div>\n",
              "<style scoped>\n",
              "    .dataframe tbody tr th:only-of-type {\n",
              "        vertical-align: middle;\n",
              "    }\n",
              "\n",
              "    .dataframe tbody tr th {\n",
              "        vertical-align: top;\n",
              "    }\n",
              "\n",
              "    .dataframe thead th {\n",
              "        text-align: right;\n",
              "    }\n",
              "</style>\n",
              "<table border=\"1\" class=\"dataframe\">\n",
              "  <thead>\n",
              "    <tr style=\"text-align: right;\">\n",
              "      <th></th>\n",
              "      <th>cod_fornecedor</th>\n",
              "      <th>nome_fornecedor</th>\n",
              "    </tr>\n",
              "  </thead>\n",
              "  <tbody>\n",
              "    <tr>\n",
              "      <th>0</th>\n",
              "      <td>1</td>\n",
              "      <td>MegaG</td>\n",
              "    </tr>\n",
              "    <tr>\n",
              "      <th>1</th>\n",
              "      <td>2</td>\n",
              "      <td>Ryu Alimentos</td>\n",
              "    </tr>\n",
              "    <tr>\n",
              "      <th>2</th>\n",
              "      <td>3</td>\n",
              "      <td>G2F</td>\n",
              "    </tr>\n",
              "    <tr>\n",
              "      <th>3</th>\n",
              "      <td>4</td>\n",
              "      <td>Distrimed</td>\n",
              "    </tr>\n",
              "  </tbody>\n",
              "</table>\n",
              "</div>"
            ],
            "text/plain": [
              "   cod_fornecedor nome_fornecedor\n",
              "0               1           MegaG\n",
              "1               2   Ryu Alimentos\n",
              "2               3             G2F\n",
              "3               4       Distrimed"
            ]
          },
          "metadata": {
            "tags": []
          },
          "execution_count": 7
        }
      ]
    },
    {
      "cell_type": "markdown",
      "metadata": {
        "id": "dCq54bu69HuA",
        "colab_type": "text"
      },
      "source": [
        "### Objetivo: Obter todos os dados da tabela \"PESSOA_CONSOME\""
      ]
    },
    {
      "cell_type": "code",
      "metadata": {
        "id": "54wkJLqP9Xx_",
        "colab_type": "code",
        "colab": {
          "base_uri": "https://localhost:8080/",
          "height": 328
        },
        "outputId": "666e1777-aef3-4670-abee-de035f5c00d8"
      },
      "source": [
        "pd.read_sql_query(\"select * from pessoa_consome\", conn)"
      ],
      "execution_count": null,
      "outputs": [
        {
          "output_type": "execute_result",
          "data": {
            "text/html": [
              "<div>\n",
              "<style scoped>\n",
              "    .dataframe tbody tr th:only-of-type {\n",
              "        vertical-align: middle;\n",
              "    }\n",
              "\n",
              "    .dataframe tbody tr th {\n",
              "        vertical-align: top;\n",
              "    }\n",
              "\n",
              "    .dataframe thead th {\n",
              "        text-align: right;\n",
              "    }\n",
              "</style>\n",
              "<table border=\"1\" class=\"dataframe\">\n",
              "  <thead>\n",
              "    <tr style=\"text-align: right;\">\n",
              "      <th></th>\n",
              "      <th>cod_pessoa_consome</th>\n",
              "      <th>fk_cod_produto</th>\n",
              "      <th>fk_cod_pessoa</th>\n",
              "      <th>quantidade_produto</th>\n",
              "    </tr>\n",
              "  </thead>\n",
              "  <tbody>\n",
              "    <tr>\n",
              "      <th>0</th>\n",
              "      <td>1</td>\n",
              "      <td>1</td>\n",
              "      <td>1</td>\n",
              "      <td>300.0</td>\n",
              "    </tr>\n",
              "    <tr>\n",
              "      <th>1</th>\n",
              "      <td>2</td>\n",
              "      <td>2</td>\n",
              "      <td>2</td>\n",
              "      <td>200.0</td>\n",
              "    </tr>\n",
              "    <tr>\n",
              "      <th>2</th>\n",
              "      <td>3</td>\n",
              "      <td>4</td>\n",
              "      <td>3</td>\n",
              "      <td>1.0</td>\n",
              "    </tr>\n",
              "    <tr>\n",
              "      <th>3</th>\n",
              "      <td>4</td>\n",
              "      <td>3</td>\n",
              "      <td>4</td>\n",
              "      <td>1.0</td>\n",
              "    </tr>\n",
              "    <tr>\n",
              "      <th>4</th>\n",
              "      <td>5</td>\n",
              "      <td>5</td>\n",
              "      <td>3</td>\n",
              "      <td>100.0</td>\n",
              "    </tr>\n",
              "    <tr>\n",
              "      <th>5</th>\n",
              "      <td>6</td>\n",
              "      <td>6</td>\n",
              "      <td>2</td>\n",
              "      <td>250.0</td>\n",
              "    </tr>\n",
              "    <tr>\n",
              "      <th>6</th>\n",
              "      <td>7</td>\n",
              "      <td>5</td>\n",
              "      <td>4</td>\n",
              "      <td>100.0</td>\n",
              "    </tr>\n",
              "    <tr>\n",
              "      <th>7</th>\n",
              "      <td>8</td>\n",
              "      <td>2</td>\n",
              "      <td>1</td>\n",
              "      <td>200.0</td>\n",
              "    </tr>\n",
              "    <tr>\n",
              "      <th>8</th>\n",
              "      <td>9</td>\n",
              "      <td>1</td>\n",
              "      <td>2</td>\n",
              "      <td>200.0</td>\n",
              "    </tr>\n",
              "  </tbody>\n",
              "</table>\n",
              "</div>"
            ],
            "text/plain": [
              "   cod_pessoa_consome  fk_cod_produto  fk_cod_pessoa  quantidade_produto\n",
              "0                   1               1              1               300.0\n",
              "1                   2               2              2               200.0\n",
              "2                   3               4              3                 1.0\n",
              "3                   4               3              4                 1.0\n",
              "4                   5               5              3               100.0\n",
              "5                   6               6              2               250.0\n",
              "6                   7               5              4               100.0\n",
              "7                   8               2              1               200.0\n",
              "8                   9               1              2               200.0"
            ]
          },
          "metadata": {
            "tags": []
          },
          "execution_count": 6
        }
      ]
    },
    {
      "cell_type": "markdown",
      "metadata": {
        "id": "rYMvdKvB9ihT",
        "colab_type": "text"
      },
      "source": [
        "### Objetivo: Obter todos os dados da tabela \"FORNECEDOR_PRODUTO\""
      ]
    },
    {
      "cell_type": "code",
      "metadata": {
        "id": "7WGkfeXY9kWh",
        "colab_type": "code",
        "colab": {
          "base_uri": "https://localhost:8080/",
          "height": 235
        },
        "outputId": "9080b2d1-e7b8-414c-eee0-85cd6793a39a"
      },
      "source": [
        "pd.read_sql_query(\"select * from fornecedor_produto\", conn)"
      ],
      "execution_count": null,
      "outputs": [
        {
          "output_type": "execute_result",
          "data": {
            "text/html": [
              "<div>\n",
              "<style scoped>\n",
              "    .dataframe tbody tr th:only-of-type {\n",
              "        vertical-align: middle;\n",
              "    }\n",
              "\n",
              "    .dataframe tbody tr th {\n",
              "        vertical-align: top;\n",
              "    }\n",
              "\n",
              "    .dataframe thead th {\n",
              "        text-align: right;\n",
              "    }\n",
              "</style>\n",
              "<table border=\"1\" class=\"dataframe\">\n",
              "  <thead>\n",
              "    <tr style=\"text-align: right;\">\n",
              "      <th></th>\n",
              "      <th>cod_fornecedor_produto</th>\n",
              "      <th>fk_cod_fornecedor</th>\n",
              "      <th>fk_cod_produto</th>\n",
              "    </tr>\n",
              "  </thead>\n",
              "  <tbody>\n",
              "    <tr>\n",
              "      <th>0</th>\n",
              "      <td>1</td>\n",
              "      <td>1</td>\n",
              "      <td>1</td>\n",
              "    </tr>\n",
              "    <tr>\n",
              "      <th>1</th>\n",
              "      <td>2</td>\n",
              "      <td>1</td>\n",
              "      <td>2</td>\n",
              "    </tr>\n",
              "    <tr>\n",
              "      <th>2</th>\n",
              "      <td>3</td>\n",
              "      <td>2</td>\n",
              "      <td>5</td>\n",
              "    </tr>\n",
              "    <tr>\n",
              "      <th>3</th>\n",
              "      <td>4</td>\n",
              "      <td>3</td>\n",
              "      <td>3</td>\n",
              "    </tr>\n",
              "    <tr>\n",
              "      <th>4</th>\n",
              "      <td>5</td>\n",
              "      <td>3</td>\n",
              "      <td>6</td>\n",
              "    </tr>\n",
              "    <tr>\n",
              "      <th>5</th>\n",
              "      <td>6</td>\n",
              "      <td>4</td>\n",
              "      <td>4</td>\n",
              "    </tr>\n",
              "  </tbody>\n",
              "</table>\n",
              "</div>"
            ],
            "text/plain": [
              "   cod_fornecedor_produto  fk_cod_fornecedor  fk_cod_produto\n",
              "0                       1                  1               1\n",
              "1                       2                  1               2\n",
              "2                       3                  2               5\n",
              "3                       4                  3               3\n",
              "4                       5                  3               6\n",
              "5                       6                  4               4"
            ]
          },
          "metadata": {
            "tags": []
          },
          "execution_count": 9
        }
      ]
    },
    {
      "cell_type": "markdown",
      "metadata": {
        "id": "IRuY7Lf59ksL",
        "colab_type": "text"
      },
      "source": [
        "### Objetivo: Obter todos os dados da tabela \"PRODUTO\""
      ]
    },
    {
      "cell_type": "code",
      "metadata": {
        "id": "X_6vNK5z9mch",
        "colab_type": "code",
        "colab": {
          "base_uri": "https://localhost:8080/",
          "height": 235
        },
        "outputId": "cf9f325c-2e21-4b98-c815-9aac4e45b969"
      },
      "source": [
        "pd.read_sql_query(\"select * from produto\", conn)"
      ],
      "execution_count": null,
      "outputs": [
        {
          "output_type": "execute_result",
          "data": {
            "text/html": [
              "<div>\n",
              "<style scoped>\n",
              "    .dataframe tbody tr th:only-of-type {\n",
              "        vertical-align: middle;\n",
              "    }\n",
              "\n",
              "    .dataframe tbody tr th {\n",
              "        vertical-align: top;\n",
              "    }\n",
              "\n",
              "    .dataframe thead th {\n",
              "        text-align: right;\n",
              "    }\n",
              "</style>\n",
              "<table border=\"1\" class=\"dataframe\">\n",
              "  <thead>\n",
              "    <tr style=\"text-align: right;\">\n",
              "      <th></th>\n",
              "      <th>cod_produto</th>\n",
              "      <th>fk_cod_tipo_produto</th>\n",
              "      <th>preco_produto</th>\n",
              "      <th>nome_produto</th>\n",
              "    </tr>\n",
              "  </thead>\n",
              "  <tbody>\n",
              "    <tr>\n",
              "      <th>0</th>\n",
              "      <td>1</td>\n",
              "      <td>1</td>\n",
              "      <td>7.79</td>\n",
              "      <td>Arroz</td>\n",
              "    </tr>\n",
              "    <tr>\n",
              "      <th>1</th>\n",
              "      <td>2</td>\n",
              "      <td>1</td>\n",
              "      <td>5.99</td>\n",
              "      <td>Feijão</td>\n",
              "    </tr>\n",
              "    <tr>\n",
              "      <th>2</th>\n",
              "      <td>3</td>\n",
              "      <td>4</td>\n",
              "      <td>3.79</td>\n",
              "      <td>Pasta de dente</td>\n",
              "    </tr>\n",
              "    <tr>\n",
              "      <th>3</th>\n",
              "      <td>4</td>\n",
              "      <td>2</td>\n",
              "      <td>17.03</td>\n",
              "      <td>Antibiotico</td>\n",
              "    </tr>\n",
              "    <tr>\n",
              "      <th>4</th>\n",
              "      <td>5</td>\n",
              "      <td>1</td>\n",
              "      <td>37.90</td>\n",
              "      <td>Peixe</td>\n",
              "    </tr>\n",
              "    <tr>\n",
              "      <th>5</th>\n",
              "      <td>6</td>\n",
              "      <td>3</td>\n",
              "      <td>2.59</td>\n",
              "      <td>Desinfetante</td>\n",
              "    </tr>\n",
              "  </tbody>\n",
              "</table>\n",
              "</div>"
            ],
            "text/plain": [
              "   cod_produto  fk_cod_tipo_produto  preco_produto    nome_produto\n",
              "0            1                    1           7.79           Arroz\n",
              "1            2                    1           5.99          Feijão\n",
              "2            3                    4           3.79  Pasta de dente\n",
              "3            4                    2          17.03     Antibiotico\n",
              "4            5                    1          37.90           Peixe\n",
              "5            6                    3           2.59    Desinfetante"
            ]
          },
          "metadata": {
            "tags": []
          },
          "execution_count": 10
        }
      ]
    },
    {
      "cell_type": "markdown",
      "metadata": {
        "id": "xW0cMb5l9mwA",
        "colab_type": "text"
      },
      "source": [
        "### Objetivo: Obter todos os dados da tabela \"TIPO_PRODUTO\""
      ]
    },
    {
      "cell_type": "code",
      "metadata": {
        "id": "WEzJfcc49o3B",
        "colab_type": "code",
        "colab": {
          "base_uri": "https://localhost:8080/",
          "height": 173
        },
        "outputId": "fe0727f5-584c-4203-cc60-7fe9f74fa7a8"
      },
      "source": [
        "pd.read_sql_query(\"select * from tipo_produto\", conn)"
      ],
      "execution_count": null,
      "outputs": [
        {
          "output_type": "execute_result",
          "data": {
            "text/html": [
              "<div>\n",
              "<style scoped>\n",
              "    .dataframe tbody tr th:only-of-type {\n",
              "        vertical-align: middle;\n",
              "    }\n",
              "\n",
              "    .dataframe tbody tr th {\n",
              "        vertical-align: top;\n",
              "    }\n",
              "\n",
              "    .dataframe thead th {\n",
              "        text-align: right;\n",
              "    }\n",
              "</style>\n",
              "<table border=\"1\" class=\"dataframe\">\n",
              "  <thead>\n",
              "    <tr style=\"text-align: right;\">\n",
              "      <th></th>\n",
              "      <th>cod_tipo_produto</th>\n",
              "      <th>nome_tipo_produto</th>\n",
              "    </tr>\n",
              "  </thead>\n",
              "  <tbody>\n",
              "    <tr>\n",
              "      <th>0</th>\n",
              "      <td>1</td>\n",
              "      <td>Alimenticio</td>\n",
              "    </tr>\n",
              "    <tr>\n",
              "      <th>1</th>\n",
              "      <td>2</td>\n",
              "      <td>Medicinal</td>\n",
              "    </tr>\n",
              "    <tr>\n",
              "      <th>2</th>\n",
              "      <td>3</td>\n",
              "      <td>Limpeza Geral</td>\n",
              "    </tr>\n",
              "    <tr>\n",
              "      <th>3</th>\n",
              "      <td>4</td>\n",
              "      <td>Limpeza Pessoal</td>\n",
              "    </tr>\n",
              "  </tbody>\n",
              "</table>\n",
              "</div>"
            ],
            "text/plain": [
              "   cod_tipo_produto nome_tipo_produto\n",
              "0                 1       Alimenticio\n",
              "1                 2         Medicinal\n",
              "2                 3     Limpeza Geral\n",
              "3                 4   Limpeza Pessoal"
            ]
          },
          "metadata": {
            "tags": []
          },
          "execution_count": 11
        }
      ]
    }
  ]
}