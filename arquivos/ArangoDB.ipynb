{
  "nbformat": 4,
  "nbformat_minor": 0,
  "metadata": {
    "colab": {
      "name": "ArangoDB",
      "provenance": [],
      "collapsed_sections": []
    },
    "kernelspec": {
      "name": "python3",
      "display_name": "Python 3"
    }
  },
  "cells": [
    {
      "cell_type": "markdown",
      "metadata": {
        "id": "EFXMEPjYwGSw"
      },
      "source": [
        "**Instalando a biblioteca para a comunicação do python com o ArangoDB**"
      ]
    },
    {
      "cell_type": "code",
      "metadata": {
        "id": "svJClBRcjb_U",
        "outputId": "bc0be56f-a275-4b54-fae2-ab2ca456e76c",
        "colab": {
          "base_uri": "https://localhost:8080/"
        }
      },
      "source": [
        "pip install python-arango"
      ],
      "execution_count": 1,
      "outputs": [
        {
          "output_type": "stream",
          "text": [
            "Collecting python-arango\n",
            "\u001b[?25l  Downloading https://files.pythonhosted.org/packages/c2/f9/3b25919907f6a73493a4eb07b2cb628280daef573ad9dde1359f289a185c/python-arango-6.0.0.tar.gz (84kB)\n",
            "\u001b[K     |████████████████████████████████| 92kB 2.4MB/s \n",
            "\u001b[?25hRequirement already satisfied: requests in /usr/local/lib/python3.6/dist-packages (from python-arango) (2.23.0)\n",
            "Requirement already satisfied: six in /usr/local/lib/python3.6/dist-packages (from python-arango) (1.15.0)\n",
            "Collecting requests_toolbelt\n",
            "\u001b[?25l  Downloading https://files.pythonhosted.org/packages/60/ef/7681134338fc097acef8d9b2f8abe0458e4d87559c689a8c306d0957ece5/requests_toolbelt-0.9.1-py2.py3-none-any.whl (54kB)\n",
            "\u001b[K     |████████████████████████████████| 61kB 7.0MB/s \n",
            "\u001b[?25hCollecting PyJWT\n",
            "  Downloading https://files.pythonhosted.org/packages/87/8b/6a9f14b5f781697e51259d81657e6048fd31a113229cf346880bb7545565/PyJWT-1.7.1-py2.py3-none-any.whl\n",
            "Requirement already satisfied: urllib3!=1.25.0,!=1.25.1,<1.26,>=1.21.1 in /usr/local/lib/python3.6/dist-packages (from requests->python-arango) (1.24.3)\n",
            "Requirement already satisfied: idna<3,>=2.5 in /usr/local/lib/python3.6/dist-packages (from requests->python-arango) (2.10)\n",
            "Requirement already satisfied: chardet<4,>=3.0.2 in /usr/local/lib/python3.6/dist-packages (from requests->python-arango) (3.0.4)\n",
            "Requirement already satisfied: certifi>=2017.4.17 in /usr/local/lib/python3.6/dist-packages (from requests->python-arango) (2020.6.20)\n",
            "Building wheels for collected packages: python-arango\n",
            "  Building wheel for python-arango (setup.py) ... \u001b[?25l\u001b[?25hdone\n",
            "  Created wheel for python-arango: filename=python_arango-6.0.0-py2.py3-none-any.whl size=92100 sha256=18339d306b687ae7793441d382439a7b6c8e85725bb62a0e5c3dd1ae52cd8894\n",
            "  Stored in directory: /root/.cache/pip/wheels/de/27/20/fa047e8572aecd3839ce1eaf17e1d2c45a8e5bbebd309054ec\n",
            "Successfully built python-arango\n",
            "Installing collected packages: requests-toolbelt, PyJWT, python-arango\n",
            "Successfully installed PyJWT-1.7.1 python-arango-6.0.0 requests-toolbelt-0.9.1\n"
          ],
          "name": "stdout"
        }
      ]
    },
    {
      "cell_type": "markdown",
      "metadata": {
        "id": "xSb3P92wwOUr"
      },
      "source": [
        "**Importando biblioteca e realizando conexão com o ArangoDB**"
      ]
    },
    {
      "cell_type": "code",
      "metadata": {
        "id": "ei7olTpij9VW"
      },
      "source": [
        "from arango import ArangoClient\n",
        "client = ArangoClient(hosts='https://d8e236160531.arangodb.cloud:8529/')\n",
        "db = client.db('_system', username='root', password='IKye3P1hs0bCIWvEbIdw')"
      ],
      "execution_count": 2,
      "outputs": []
    },
    {
      "cell_type": "markdown",
      "metadata": {
        "id": "mZVpNfIQwiUi"
      },
      "source": [
        "**Criando e acessando database 'provisoes_de_emergencia'**"
      ]
    },
    {
      "cell_type": "code",
      "metadata": {
        "id": "PtECaJHDkAx5"
      },
      "source": [
        "if not db.has_database('provisoes_de_emergencia'):\n",
        "  db.create_database('provisoes_de_emergencia')"
      ],
      "execution_count": 3,
      "outputs": []
    },
    {
      "cell_type": "markdown",
      "metadata": {
        "id": "1BSzAz6Nzi2E"
      },
      "source": [
        "**Excluindo coleções**"
      ]
    },
    {
      "cell_type": "code",
      "metadata": {
        "id": "WeQMzwDTzrJ2"
      },
      "source": [
        "if db.has_collection('pessoa'):\n",
        "  db.delete_collection('pessoa')\n",
        "\n",
        "if db.has_collection('produto'):\n",
        "  db.delete_collection('produto')\n",
        "\n",
        "if db.has_collection('pessoa_consome'):\n",
        "  db.delete_collection('pessoa_consome')\n"
      ],
      "execution_count": 4,
      "outputs": []
    },
    {
      "cell_type": "markdown",
      "metadata": {
        "id": "YlZcPb7_2GlL"
      },
      "source": [
        "**Criando coleções**"
      ]
    },
    {
      "cell_type": "code",
      "metadata": {
        "id": "P1y9Uk8y2QZT",
        "outputId": "1c60b2b0-445b-47af-9e9f-bf298a5885d5",
        "colab": {
          "base_uri": "https://localhost:8080/"
        }
      },
      "source": [
        "db.create_collection('pessoa')\n",
        "db.create_collection('produto')\n",
        "db.create_collection('pessoa_consome')"
      ],
      "execution_count": 5,
      "outputs": [
        {
          "output_type": "execute_result",
          "data": {
            "text/plain": [
              "<StandardCollection pessoa_consome>"
            ]
          },
          "metadata": {
            "tags": []
          },
          "execution_count": 5
        }
      ]
    },
    {
      "cell_type": "markdown",
      "metadata": {
        "id": "0JGzoYEk2jtd"
      },
      "source": [
        "**Inserindo um documento na coleção**"
      ]
    },
    {
      "cell_type": "code",
      "metadata": {
        "id": "SklbScoW2sn7",
        "outputId": "05543894-bebb-4fef-b827-1b9e81d80fd2",
        "colab": {
          "base_uri": "https://localhost:8080/"
        }
      },
      "source": [
        "objeto_produto = {\n",
        "        \"nome_produto\": \"Lasanha\",\n",
        "        \"preco_produto\": 10.90\n",
        "}\n",
        "collection_produto = db.collection('produto')\n",
        "collection_produto.insert(objeto_produto)"
      ],
      "execution_count": 6,
      "outputs": [
        {
          "output_type": "execute_result",
          "data": {
            "text/plain": [
              "{'_id': 'produto/12061492', '_key': '12061492', '_rev': '_bORWbB----'}"
            ]
          },
          "metadata": {
            "tags": []
          },
          "execution_count": 6
        }
      ]
    },
    {
      "cell_type": "markdown",
      "metadata": {
        "id": "6nZPKm6A3XTH"
      },
      "source": [
        "**Inserindo vários documentos na coleção**"
      ]
    },
    {
      "cell_type": "markdown",
      "metadata": {
        "id": "uCRAYDWo5Lyg"
      },
      "source": [
        "*Inserindo dados dos produtos*"
      ]
    },
    {
      "cell_type": "code",
      "metadata": {
        "id": "rRkAvfQh3bH9",
        "outputId": "70ad437c-e1ef-40aa-e3cd-8fa28d9810b8",
        "colab": {
          "base_uri": "https://localhost:8080/"
        }
      },
      "source": [
        "produtos = [\n",
        "           {\n",
        "                \"nome_produto\": \"Arroz\",\n",
        "                \"preco_produto\": 7.79\n",
        "            }\n",
        "            ,\n",
        "            {\n",
        "                \"nome_produto\": \"Feijão\",\n",
        "                \"preco_produto\": 5.99\n",
        "            }\n",
        "            ,\n",
        "            {\n",
        "                \"nome_produto\": \"Peixe\",\n",
        "                \"preco_produto\": 37.90\n",
        "            }\n",
        "            ,\n",
        "            {\n",
        "                \"nome_produto\": \"Farinha\",\n",
        "                \"preco_produto\": 5.39\n",
        "            }\n",
        "            ,\n",
        "            {\n",
        "                \"nome_produto\": \"Cloro\",\n",
        "                \"preco_produto\": 10.79\n",
        "            }\n",
        "            ,\n",
        "            {\n",
        "                \"nome_produto\": \"Sabão em pó\",\n",
        "                \"preco_produto\": 7.90\n",
        "            }\n",
        "            ,\n",
        "            {\n",
        "                \"nome_produto\": \"Tomate Carmem\",\n",
        "                \"preco_produto\": 3.59\n",
        "            }\n",
        "            ,\n",
        "            {\n",
        "                \"nome_produto\": \"Dorflex\",\n",
        "                \"preco_produto\": 3.68\n",
        "            }\n",
        "            ,\n",
        "            {\n",
        "                \"nome_produto\": \"Vitamina C\",\n",
        "                \"preco_produto\": 8.59\n",
        "            }\n",
        "            ,\n",
        "            {\n",
        "                \"nome_produto\": \"Batata Monalise\",\n",
        "                \"preco_produto\": 3.85\n",
        "            }\n",
        "]\n",
        "\n",
        "collection_produto = db.collection('produto')\n",
        "collection_produto.insert(produtos)"
      ],
      "execution_count": 7,
      "outputs": [
        {
          "output_type": "execute_result",
          "data": {
            "text/plain": [
              "[{'_id': 'produto/12061493', '_key': '12061493', '_rev': '_bORWbSK---'},\n",
              " {'_id': 'produto/12061494', '_key': '12061494', '_rev': '_bORWbSK--A'},\n",
              " {'_id': 'produto/12061495', '_key': '12061495', '_rev': '_bORWbSK--C'},\n",
              " {'_id': 'produto/12061496', '_key': '12061496', '_rev': '_bORWbSK--E'},\n",
              " {'_id': 'produto/12061497', '_key': '12061497', '_rev': '_bORWbSK--G'},\n",
              " {'_id': 'produto/12061498', '_key': '12061498', '_rev': '_bORWbSK--I'},\n",
              " {'_id': 'produto/12061499', '_key': '12061499', '_rev': '_bORWbSK--K'},\n",
              " {'_id': 'produto/12061500', '_key': '12061500', '_rev': '_bORWbSK--M'},\n",
              " {'_id': 'produto/12061501', '_key': '12061501', '_rev': '_bORWbSK--O'},\n",
              " {'_id': 'produto/12061502', '_key': '12061502', '_rev': '_bORWbSK--Q'}]"
            ]
          },
          "metadata": {
            "tags": []
          },
          "execution_count": 7
        }
      ]
    },
    {
      "cell_type": "markdown",
      "metadata": {
        "id": "4Mzw3Xvi5lUw"
      },
      "source": [
        "*Inserindos dados das pessoas*"
      ]
    },
    {
      "cell_type": "code",
      "metadata": {
        "id": "PL74Td_z5nJN",
        "outputId": "52ed5a49-6384-442e-944c-9ceac6b54b02",
        "colab": {
          "base_uri": "https://localhost:8080/"
        }
      },
      "source": [
        "pessoas = [\n",
        "            {\n",
        "              \"nome_pessoa\": \"Valdeci G\",\n",
        "              \"cpf\": \"61576870880\",\n",
        "              \"data_nascimento\": \"1977-09-03\"\n",
        "            }, \n",
        "           {\n",
        "              \"nome_pessoa\": \"Clara L\",\n",
        "              \"cpf\": \"80663532787\",\n",
        "              \"data_nascimento\": \"2007-12-20\"\n",
        "            }, \n",
        "           {\n",
        "              \"nome_pessoa\": \"Kelen L\",\n",
        "              \"cpf\": \"6410440979\",\n",
        "              \"data_nascimento\": \"1979-07-05\"\n",
        "            }, \n",
        "           {\n",
        "              \"nome_pessoa\": \"Sebastian da Silva\",\n",
        "              \"cpf\": \"69505791607\",\n",
        "              \"data_nascimento\": \"1986-12-02\"\n",
        "            }, \n",
        "           {\n",
        "              \"nome_pessoa\": \"Eliot S\",\n",
        "              \"cpf\": \"14101087830\",\n",
        "              \"data_nascimento\": \"1988-01-28\"\n",
        "            }, \n",
        "           {\n",
        "              \"nome_pessoa\": \"Merlin de Avalon\",\n",
        "              \"cpf\": \"93397782007\",\n",
        "              \"data_nascimento\": \"1960-05-17\"\n",
        "            }, \n",
        "           {\n",
        "              \"nome_pessoa\": \"Arthur Excalibur\",\n",
        "              \"cpf\": \"46733400006\",\n",
        "              \"data_nascimento\": \"1998-07-30\"\n",
        "            }, \n",
        "           {\n",
        "              \"nome_pessoa\": \"Gerald de Rivia\",\n",
        "              \"cpf\": \"49033310082\",\n",
        "              \"data_nascimento\": \"1934-10-09\"\n",
        "            }, \n",
        "           {\n",
        "              \"nome_pessoa\": \"Derfel da Silva\",\n",
        "              \"cpf\": \"88385078053\",\n",
        "              \"data_nascimento\": \"1923-12-31\"\n",
        "            }, \n",
        "           {\n",
        "              \"nome_pessoa\": \"Borz Graal\",\n",
        "              \"cpf\": \"16521580060\",\n",
        "              \"data_nascimento\": \"1955-08-21\"\n",
        "            }, \n",
        "           \n",
        "]\n",
        "collection_pessoa = db.collection('pessoa')\n",
        "collection_pessoa.insert(pessoas)"
      ],
      "execution_count": 8,
      "outputs": [
        {
          "output_type": "execute_result",
          "data": {
            "text/plain": [
              "[{'_id': 'pessoa/12061503', '_key': '12061503', '_rev': '_bORWbkK---'},\n",
              " {'_id': 'pessoa/12061504', '_key': '12061504', '_rev': '_bORWbkK--A'},\n",
              " {'_id': 'pessoa/12061505', '_key': '12061505', '_rev': '_bORWbkK--C'},\n",
              " {'_id': 'pessoa/12061506', '_key': '12061506', '_rev': '_bORWbkK--E'},\n",
              " {'_id': 'pessoa/12061507', '_key': '12061507', '_rev': '_bORWbkK--G'},\n",
              " {'_id': 'pessoa/12061508', '_key': '12061508', '_rev': '_bORWbkK--I'},\n",
              " {'_id': 'pessoa/12061509', '_key': '12061509', '_rev': '_bORWbkK--K'},\n",
              " {'_id': 'pessoa/12061510', '_key': '12061510', '_rev': '_bORWbkK--M'},\n",
              " {'_id': 'pessoa/12061511', '_key': '12061511', '_rev': '_bORWbkK--O'},\n",
              " {'_id': 'pessoa/12061512', '_key': '12061512', '_rev': '_bORWbkK--Q'}]"
            ]
          },
          "metadata": {
            "tags": []
          },
          "execution_count": 8
        }
      ]
    },
    {
      "cell_type": "markdown",
      "metadata": {
        "id": "Kh-UzYNf5-Aj"
      },
      "source": [
        "*Inserindo dados de pessoa_consome*"
      ]
    },
    {
      "cell_type": "code",
      "metadata": {
        "id": "t1NysMPs6AHX",
        "outputId": "efa0c935-db5c-4f2b-8772-8bd29c68e410",
        "colab": {
          "base_uri": "https://localhost:8080/"
        }
      },
      "source": [
        "pessoa_consome_list = [\n",
        "  {                           \n",
        "    \"nome_pessoa\": \"Valdeci G\",\n",
        "    \"cpf\": \"61576870880\",\n",
        "    \"data_nascimento\": \"1977-09-03\",\n",
        "    \"produtos_consumidos\": [\n",
        "      {\n",
        "        \"nome_produto\": \"Arroz\",\n",
        "        \"preco_produto\": 7.79,\n",
        "        \"quantidade_produto\": 100\n",
        "      },\n",
        "      {\n",
        "          \"nome_produto\": \"Peixe\",\n",
        "          \"preco_produto\": 37.90,\n",
        "          \"quantidade_produto\": 250\n",
        "      }\n",
        "    ]\n",
        "  },\n",
        "  {\n",
        "    \"nome_pessoa\": \"Clara L\",\n",
        "    \"cpf\": \"80663532787\",\n",
        "    \"data_nascimento\": \"2007-12-20\",\n",
        "    \"produtos_consumidos\":[\n",
        "      {\n",
        "          \"nome_produto\": \"Feijão\",\n",
        "          \"preco_produto\": 5.99,\n",
        "          \"quantidade_produto\": 150\n",
        "      },\n",
        "      {\n",
        "          \"nome_produto\": \"Farinha\",\n",
        "          \"preco_produto\": 5.39\n",
        "      }\n",
        "    ]\n",
        "  }, \n",
        "  {\n",
        "    \"nome_pessoa\": \"Kelen L\",\n",
        "    \"cpf\": \"6410440979\",\n",
        "    \"data_nascimento\": \"1979-07-05\",\n",
        "    \"produtos_consumidos\":[\n",
        "     {\n",
        "         \"nome_produto\": \"Cloro\",\n",
        "          \"preco_produto\": 10.79,\n",
        "          \"quantidade_produto\": 500\n",
        "     },\n",
        "     {\n",
        "         \"nome_produto\": \"Tomate Carmem\",\n",
        "        \"preco_produto\": 3.59,\n",
        "        \"quantidade_produto\": 100\n",
        "     }\n",
        "    ]\n",
        "  },\n",
        "  {\n",
        "      \"nome_pessoa\": \"Sebastian da Silva\",\n",
        "      \"cpf\": \"69505791607\",\n",
        "      \"data_nascimento\": \"1986-12-02\",\n",
        "      \"produtos_consumidos\":[\n",
        "        {\n",
        "            \"nome_produto\": \"Sabão em pó\",\n",
        "            \"preco_produto\": 7.90,\n",
        "            \"quantidade_produto\": 140\n",
        "        },\n",
        "        {\n",
        "            \"nome_produto\": \"Vitamina C\",\n",
        "            \"preco_produto\": 8.59,\n",
        "            \"quantidade_produto\": 260\n",
        "        }\n",
        "      ]\n",
        "  },\n",
        "  {\n",
        "      \"nome_pessoa\": \"Eliot S\",\n",
        "      \"cpf\": \"14101087830\",\n",
        "      \"data_nascimento\": \"1988-01-28\",\n",
        "      \"produtos_consumidos\":[\n",
        "        {\n",
        "            \"nome_produto\": \"Arroz\",\n",
        "            \"preco_produto\": 7.79\n",
        "        },\n",
        "        {\n",
        "            \"nome_produto\": \"Batata Monalise\",\n",
        "            \"preco_produto\": 3.85,\n",
        "            \"quantidade_produto\": 130\n",
        "        }\n",
        "      ]\n",
        "  },\n",
        "  {\n",
        "      \"nome_pessoa\": \"Merlin de Avalon\",\n",
        "      \"cpf\": \"93397782007\",\n",
        "      \"data_nascimento\": \"1960-05-17\",\n",
        "      \"produtos_consumidos\":[\n",
        "        {\n",
        "            \"nome_produto\": \"Peixe\",\n",
        "            \"preco_produto\": 37.90,\n",
        "            \"quantidade_produto\": 300\n",
        "        },\n",
        "        {\n",
        "            \"nome_produto\": \"Feijão\",\n",
        "            \"preco_produto\": 5.99,\n",
        "            \"quantidade_produto\": 250\n",
        "        }\n",
        "      ]\n",
        "  },\n",
        "  {\n",
        "      \"nome_pessoa\": \"Arthur Excalibur\",\n",
        "      \"cpf\": \"46733400006\",\n",
        "      \"data_nascimento\": \"1998-07-30\",\n",
        "      \"produtos_consumidos\":[\n",
        "        {\n",
        "            \"nome_produto\": \"Tomate Carmem\",\n",
        "            \"preco_produto\": 3.59,\n",
        "            \"quantidade_produto\": 200\n",
        "        },\n",
        "        {\n",
        "            \"nome_produto\": \"Sabão em pó\",\n",
        "            \"preco_produto\": 7.90,\n",
        "            \"quantidade_produto\": 120\n",
        "        }\n",
        "      ]\n",
        "  },\n",
        " {\n",
        "      \"nome_pessoa\": \"Gerald de Rivia\",\n",
        "      \"cpf\": \"49033310082\",\n",
        "      \"data_nascimento\": \"1934-10-09\",\n",
        "      \"produtos_consumidos\":[\n",
        "        {\n",
        "            \"nome_produto\": \"Dorflex\",\n",
        "            \"preco_produto\": 3.68,\n",
        "            \"quantidade_produto\": 20\n",
        "        },\n",
        "        {\n",
        "            \"nome_produto\": \"Batata Monalise\",\n",
        "            \"preco_produto\": 3.85,\n",
        "            \"quantidade_produto\": 230\n",
        "        }\n",
        "      ]\n",
        "  }, \n",
        " {\n",
        "      \"nome_pessoa\": \"Derfel da Silva\",\n",
        "      \"cpf\": \"88385078053\",\n",
        "      \"data_nascimento\": \"1923-12-31\",\n",
        "      \"produtos_consumidos\":[\n",
        "        {\n",
        "            \"nome_produto\": \"Farinha\",\n",
        "            \"preco_produto\": 5.39,\n",
        "            \"quantidade_produto\": 150\n",
        "        },\n",
        "        {\n",
        "            \"nome_produto\": \"Vitamina C\",\n",
        "            \"preco_produto\": 8.59,\n",
        "            \"quantidade_produto\": 100\n",
        "        }\n",
        "      ]\n",
        "  },\n",
        " {\n",
        "      \"nome_pessoa\": \"Borz Graal\",\n",
        "      \"cpf\": \"16521580060\",\n",
        "      \"data_nascimento\": \"1955-08-21\",\n",
        "      \"produtos_consumidos\":[\n",
        "        {\n",
        "            \"nome_produto\": \"Arroz\",\n",
        "            \"preco_produto\": 7.79,\n",
        "            \"quantidade_produto\": 150\n",
        "        },\n",
        "        {\n",
        "            \"nome_produto\": \"Feijão\",\n",
        "            \"preco_produto\": 5.99,\n",
        "            \"quantidade_produto\": 200\n",
        "        }\n",
        "      ]\n",
        "  } \n",
        "]\n",
        "collection_pessoa_consome = db.collection('pessoa_consome')\n",
        "collection_pessoa_consome.insert(pessoa_consome_list)"
      ],
      "execution_count": 9,
      "outputs": [
        {
          "output_type": "execute_result",
          "data": {
            "text/plain": [
              "[{'_id': 'pessoa_consome/12061513', '_key': '12061513', '_rev': '_bORWc_q---'},\n",
              " {'_id': 'pessoa_consome/12061514', '_key': '12061514', '_rev': '_bORWc_q--A'},\n",
              " {'_id': 'pessoa_consome/12061515', '_key': '12061515', '_rev': '_bORWc_q--C'},\n",
              " {'_id': 'pessoa_consome/12061516', '_key': '12061516', '_rev': '_bORWc_q--E'},\n",
              " {'_id': 'pessoa_consome/12061517', '_key': '12061517', '_rev': '_bORWc_q--G'},\n",
              " {'_id': 'pessoa_consome/12061518', '_key': '12061518', '_rev': '_bORWc_q--I'},\n",
              " {'_id': 'pessoa_consome/12061519', '_key': '12061519', '_rev': '_bORWc_q--K'},\n",
              " {'_id': 'pessoa_consome/12061520', '_key': '12061520', '_rev': '_bORWc_q--M'},\n",
              " {'_id': 'pessoa_consome/12061521', '_key': '12061521', '_rev': '_bORWc_q--O'},\n",
              " {'_id': 'pessoa_consome/12061522', '_key': '12061522', '_rev': '_bORWc_q--Q'}]"
            ]
          },
          "metadata": {
            "tags": []
          },
          "execution_count": 9
        }
      ]
    },
    {
      "cell_type": "markdown",
      "metadata": {
        "id": "Ehr9ZhTA7BjD"
      },
      "source": [
        "**Buscando os documentos de cada coleção**"
      ]
    },
    {
      "cell_type": "markdown",
      "metadata": {
        "id": "MvZ9_RdV91ZJ"
      },
      "source": [
        "*Convertemos para lista para mostrar os resultados*"
      ]
    },
    {
      "cell_type": "code",
      "metadata": {
        "id": "hOk2HMru7K7b",
        "outputId": "1fa9c91a-01aa-480b-a4ed-5a1e7e282c19",
        "colab": {
          "base_uri": "https://localhost:8080/"
        }
      },
      "source": [
        "collection_produto = db.collection('produto')\n",
        "list(collection_produto.all())"
      ],
      "execution_count": 10,
      "outputs": [
        {
          "output_type": "execute_result",
          "data": {
            "text/plain": [
              "[{'_id': 'produto/12061492',\n",
              "  '_key': '12061492',\n",
              "  '_rev': '_bORWbB----',\n",
              "  'nome_produto': 'Lasanha',\n",
              "  'preco_produto': 10.9},\n",
              " {'_id': 'produto/12061493',\n",
              "  '_key': '12061493',\n",
              "  '_rev': '_bORWbSK---',\n",
              "  'nome_produto': 'Arroz',\n",
              "  'preco_produto': 7.79},\n",
              " {'_id': 'produto/12061494',\n",
              "  '_key': '12061494',\n",
              "  '_rev': '_bORWbSK--A',\n",
              "  'nome_produto': 'Feijão',\n",
              "  'preco_produto': 5.99},\n",
              " {'_id': 'produto/12061495',\n",
              "  '_key': '12061495',\n",
              "  '_rev': '_bORWbSK--C',\n",
              "  'nome_produto': 'Peixe',\n",
              "  'preco_produto': 37.9},\n",
              " {'_id': 'produto/12061496',\n",
              "  '_key': '12061496',\n",
              "  '_rev': '_bORWbSK--E',\n",
              "  'nome_produto': 'Farinha',\n",
              "  'preco_produto': 5.39},\n",
              " {'_id': 'produto/12061497',\n",
              "  '_key': '12061497',\n",
              "  '_rev': '_bORWbSK--G',\n",
              "  'nome_produto': 'Cloro',\n",
              "  'preco_produto': 10.79},\n",
              " {'_id': 'produto/12061498',\n",
              "  '_key': '12061498',\n",
              "  '_rev': '_bORWbSK--I',\n",
              "  'nome_produto': 'Sabão em pó',\n",
              "  'preco_produto': 7.9},\n",
              " {'_id': 'produto/12061499',\n",
              "  '_key': '12061499',\n",
              "  '_rev': '_bORWbSK--K',\n",
              "  'nome_produto': 'Tomate Carmem',\n",
              "  'preco_produto': 3.59},\n",
              " {'_id': 'produto/12061500',\n",
              "  '_key': '12061500',\n",
              "  '_rev': '_bORWbSK--M',\n",
              "  'nome_produto': 'Dorflex',\n",
              "  'preco_produto': 3.68},\n",
              " {'_id': 'produto/12061501',\n",
              "  '_key': '12061501',\n",
              "  '_rev': '_bORWbSK--O',\n",
              "  'nome_produto': 'Vitamina C',\n",
              "  'preco_produto': 8.59},\n",
              " {'_id': 'produto/12061502',\n",
              "  '_key': '12061502',\n",
              "  '_rev': '_bORWbSK--Q',\n",
              "  'nome_produto': 'Batata Monalise',\n",
              "  'preco_produto': 3.85}]"
            ]
          },
          "metadata": {
            "tags": []
          },
          "execution_count": 10
        }
      ]
    },
    {
      "cell_type": "code",
      "metadata": {
        "id": "Gqfdbp10-N0N",
        "outputId": "f75a5b89-d09d-4f7a-a27b-f304543a0cff",
        "colab": {
          "base_uri": "https://localhost:8080/"
        }
      },
      "source": [
        "collection_pessoa = db.collection('pessoa')\n",
        "list(collection_pessoa.all())"
      ],
      "execution_count": 11,
      "outputs": [
        {
          "output_type": "execute_result",
          "data": {
            "text/plain": [
              "[{'_id': 'pessoa/12061503',\n",
              "  '_key': '12061503',\n",
              "  '_rev': '_bORWbkK---',\n",
              "  'cpf': '61576870880',\n",
              "  'data_nascimento': '1977-09-03',\n",
              "  'nome_pessoa': 'Valdeci G'},\n",
              " {'_id': 'pessoa/12061504',\n",
              "  '_key': '12061504',\n",
              "  '_rev': '_bORWbkK--A',\n",
              "  'cpf': '80663532787',\n",
              "  'data_nascimento': '2007-12-20',\n",
              "  'nome_pessoa': 'Clara L'},\n",
              " {'_id': 'pessoa/12061505',\n",
              "  '_key': '12061505',\n",
              "  '_rev': '_bORWbkK--C',\n",
              "  'cpf': '6410440979',\n",
              "  'data_nascimento': '1979-07-05',\n",
              "  'nome_pessoa': 'Kelen L'},\n",
              " {'_id': 'pessoa/12061506',\n",
              "  '_key': '12061506',\n",
              "  '_rev': '_bORWbkK--E',\n",
              "  'cpf': '69505791607',\n",
              "  'data_nascimento': '1986-12-02',\n",
              "  'nome_pessoa': 'Sebastian da Silva'},\n",
              " {'_id': 'pessoa/12061507',\n",
              "  '_key': '12061507',\n",
              "  '_rev': '_bORWbkK--G',\n",
              "  'cpf': '14101087830',\n",
              "  'data_nascimento': '1988-01-28',\n",
              "  'nome_pessoa': 'Eliot S'},\n",
              " {'_id': 'pessoa/12061508',\n",
              "  '_key': '12061508',\n",
              "  '_rev': '_bORWbkK--I',\n",
              "  'cpf': '93397782007',\n",
              "  'data_nascimento': '1960-05-17',\n",
              "  'nome_pessoa': 'Merlin de Avalon'},\n",
              " {'_id': 'pessoa/12061509',\n",
              "  '_key': '12061509',\n",
              "  '_rev': '_bORWbkK--K',\n",
              "  'cpf': '46733400006',\n",
              "  'data_nascimento': '1998-07-30',\n",
              "  'nome_pessoa': 'Arthur Excalibur'},\n",
              " {'_id': 'pessoa/12061510',\n",
              "  '_key': '12061510',\n",
              "  '_rev': '_bORWbkK--M',\n",
              "  'cpf': '49033310082',\n",
              "  'data_nascimento': '1934-10-09',\n",
              "  'nome_pessoa': 'Gerald de Rivia'},\n",
              " {'_id': 'pessoa/12061511',\n",
              "  '_key': '12061511',\n",
              "  '_rev': '_bORWbkK--O',\n",
              "  'cpf': '88385078053',\n",
              "  'data_nascimento': '1923-12-31',\n",
              "  'nome_pessoa': 'Derfel da Silva'},\n",
              " {'_id': 'pessoa/12061512',\n",
              "  '_key': '12061512',\n",
              "  '_rev': '_bORWbkK--Q',\n",
              "  'cpf': '16521580060',\n",
              "  'data_nascimento': '1955-08-21',\n",
              "  'nome_pessoa': 'Borz Graal'}]"
            ]
          },
          "metadata": {
            "tags": []
          },
          "execution_count": 11
        }
      ]
    },
    {
      "cell_type": "code",
      "metadata": {
        "id": "0PSP6WU8-Tnr",
        "outputId": "b8d856d9-0ff9-42e4-a45c-97c428eee2e7",
        "colab": {
          "base_uri": "https://localhost:8080/"
        }
      },
      "source": [
        "collection_pessoa_consome = db.collection('pessoa_consome')\n",
        "list(collection_pessoa_consome.all())"
      ],
      "execution_count": 12,
      "outputs": [
        {
          "output_type": "execute_result",
          "data": {
            "text/plain": [
              "[{'_id': 'pessoa_consome/12061513',\n",
              "  '_key': '12061513',\n",
              "  '_rev': '_bORWc_q---',\n",
              "  'cpf': '61576870880',\n",
              "  'data_nascimento': '1977-09-03',\n",
              "  'nome_pessoa': 'Valdeci G',\n",
              "  'produtos_consumidos': [{'nome_produto': 'Arroz',\n",
              "    'preco_produto': 7.79,\n",
              "    'quantidade_produto': 100},\n",
              "   {'nome_produto': 'Peixe',\n",
              "    'preco_produto': 37.9,\n",
              "    'quantidade_produto': 250}]},\n",
              " {'_id': 'pessoa_consome/12061514',\n",
              "  '_key': '12061514',\n",
              "  '_rev': '_bORWc_q--A',\n",
              "  'cpf': '80663532787',\n",
              "  'data_nascimento': '2007-12-20',\n",
              "  'nome_pessoa': 'Clara L',\n",
              "  'produtos_consumidos': [{'nome_produto': 'Feijão',\n",
              "    'preco_produto': 5.99,\n",
              "    'quantidade_produto': 150},\n",
              "   {'nome_produto': 'Farinha', 'preco_produto': 5.39}]},\n",
              " {'_id': 'pessoa_consome/12061515',\n",
              "  '_key': '12061515',\n",
              "  '_rev': '_bORWc_q--C',\n",
              "  'cpf': '6410440979',\n",
              "  'data_nascimento': '1979-07-05',\n",
              "  'nome_pessoa': 'Kelen L',\n",
              "  'produtos_consumidos': [{'nome_produto': 'Cloro',\n",
              "    'preco_produto': 10.79,\n",
              "    'quantidade_produto': 500},\n",
              "   {'nome_produto': 'Tomate Carmem',\n",
              "    'preco_produto': 3.59,\n",
              "    'quantidade_produto': 100}]},\n",
              " {'_id': 'pessoa_consome/12061516',\n",
              "  '_key': '12061516',\n",
              "  '_rev': '_bORWc_q--E',\n",
              "  'cpf': '69505791607',\n",
              "  'data_nascimento': '1986-12-02',\n",
              "  'nome_pessoa': 'Sebastian da Silva',\n",
              "  'produtos_consumidos': [{'nome_produto': 'Sabão em pó',\n",
              "    'preco_produto': 7.9,\n",
              "    'quantidade_produto': 140},\n",
              "   {'nome_produto': 'Vitamina C',\n",
              "    'preco_produto': 8.59,\n",
              "    'quantidade_produto': 260}]},\n",
              " {'_id': 'pessoa_consome/12061517',\n",
              "  '_key': '12061517',\n",
              "  '_rev': '_bORWc_q--G',\n",
              "  'cpf': '14101087830',\n",
              "  'data_nascimento': '1988-01-28',\n",
              "  'nome_pessoa': 'Eliot S',\n",
              "  'produtos_consumidos': [{'nome_produto': 'Arroz', 'preco_produto': 7.79},\n",
              "   {'nome_produto': 'Batata Monalise',\n",
              "    'preco_produto': 3.85,\n",
              "    'quantidade_produto': 130}]},\n",
              " {'_id': 'pessoa_consome/12061518',\n",
              "  '_key': '12061518',\n",
              "  '_rev': '_bORWc_q--I',\n",
              "  'cpf': '93397782007',\n",
              "  'data_nascimento': '1960-05-17',\n",
              "  'nome_pessoa': 'Merlin de Avalon',\n",
              "  'produtos_consumidos': [{'nome_produto': 'Peixe',\n",
              "    'preco_produto': 37.9,\n",
              "    'quantidade_produto': 300},\n",
              "   {'nome_produto': 'Feijão',\n",
              "    'preco_produto': 5.99,\n",
              "    'quantidade_produto': 250}]},\n",
              " {'_id': 'pessoa_consome/12061519',\n",
              "  '_key': '12061519',\n",
              "  '_rev': '_bORWc_q--K',\n",
              "  'cpf': '46733400006',\n",
              "  'data_nascimento': '1998-07-30',\n",
              "  'nome_pessoa': 'Arthur Excalibur',\n",
              "  'produtos_consumidos': [{'nome_produto': 'Tomate Carmem',\n",
              "    'preco_produto': 3.59,\n",
              "    'quantidade_produto': 200},\n",
              "   {'nome_produto': 'Sabão em pó',\n",
              "    'preco_produto': 7.9,\n",
              "    'quantidade_produto': 120}]},\n",
              " {'_id': 'pessoa_consome/12061520',\n",
              "  '_key': '12061520',\n",
              "  '_rev': '_bORWc_q--M',\n",
              "  'cpf': '49033310082',\n",
              "  'data_nascimento': '1934-10-09',\n",
              "  'nome_pessoa': 'Gerald de Rivia',\n",
              "  'produtos_consumidos': [{'nome_produto': 'Dorflex',\n",
              "    'preco_produto': 3.68,\n",
              "    'quantidade_produto': 20},\n",
              "   {'nome_produto': 'Batata Monalise',\n",
              "    'preco_produto': 3.85,\n",
              "    'quantidade_produto': 230}]},\n",
              " {'_id': 'pessoa_consome/12061521',\n",
              "  '_key': '12061521',\n",
              "  '_rev': '_bORWc_q--O',\n",
              "  'cpf': '88385078053',\n",
              "  'data_nascimento': '1923-12-31',\n",
              "  'nome_pessoa': 'Derfel da Silva',\n",
              "  'produtos_consumidos': [{'nome_produto': 'Farinha',\n",
              "    'preco_produto': 5.39,\n",
              "    'quantidade_produto': 150},\n",
              "   {'nome_produto': 'Vitamina C',\n",
              "    'preco_produto': 8.59,\n",
              "    'quantidade_produto': 100}]},\n",
              " {'_id': 'pessoa_consome/12061522',\n",
              "  '_key': '12061522',\n",
              "  '_rev': '_bORWc_q--Q',\n",
              "  'cpf': '16521580060',\n",
              "  'data_nascimento': '1955-08-21',\n",
              "  'nome_pessoa': 'Borz Graal',\n",
              "  'produtos_consumidos': [{'nome_produto': 'Arroz',\n",
              "    'preco_produto': 7.79,\n",
              "    'quantidade_produto': 150},\n",
              "   {'nome_produto': 'Feijão',\n",
              "    'preco_produto': 5.99,\n",
              "    'quantidade_produto': 200}]}]"
            ]
          },
          "metadata": {
            "tags": []
          },
          "execution_count": 12
        }
      ]
    },
    {
      "cell_type": "markdown",
      "metadata": {
        "id": "kHJj7ik7_i0k"
      },
      "source": [
        "**Buscando um documento em especifico (utilizando filtros)**"
      ]
    },
    {
      "cell_type": "code",
      "metadata": {
        "id": "o8nc4q8g_m2j",
        "outputId": "3d05e0d4-5988-4a9e-cdde-19d00ac60828",
        "colab": {
          "base_uri": "https://localhost:8080/"
        }
      },
      "source": [
        "collection_pessoa = db.collection('pessoa')\n",
        "list(collection_pessoa.find({'nome_pessoa': 'Merlin de Avalon'}))"
      ],
      "execution_count": 13,
      "outputs": [
        {
          "output_type": "execute_result",
          "data": {
            "text/plain": [
              "[{'_id': 'pessoa/12061508',\n",
              "  '_key': '12061508',\n",
              "  '_rev': '_bORWbkK--I',\n",
              "  'cpf': '93397782007',\n",
              "  'data_nascimento': '1960-05-17',\n",
              "  'nome_pessoa': 'Merlin de Avalon'}]"
            ]
          },
          "metadata": {
            "tags": []
          },
          "execution_count": 13
        }
      ]
    },
    {
      "cell_type": "markdown",
      "metadata": {
        "id": "7ZOA_9iOAa7q"
      },
      "source": [
        "**Atualizando documentos**"
      ]
    },
    {
      "cell_type": "code",
      "metadata": {
        "id": "oBDcYzxNAdAg",
        "outputId": "2bdd1848-f125-406c-b967-89b56863a1d5",
        "colab": {
          "base_uri": "https://localhost:8080/"
        }
      },
      "source": [
        "collection_pessoa = db.collection('pessoa')\n",
        "collection_pessoa.update_match({'nome_pessoa': 'Valdeci G'}, {'data_nascimento': '2000-01-01'})"
      ],
      "execution_count": 14,
      "outputs": [
        {
          "output_type": "execute_result",
          "data": {
            "text/plain": [
              "1"
            ]
          },
          "metadata": {
            "tags": []
          },
          "execution_count": 14
        }
      ]
    },
    {
      "cell_type": "code",
      "metadata": {
        "id": "i3RlNIHDBSfR",
        "outputId": "6cbc3d17-839c-4862-e9d8-17e7f44eeac9",
        "colab": {
          "base_uri": "https://localhost:8080/"
        }
      },
      "source": [
        "collection_produto = db.collection('produto')\n",
        "collection_produto.update_match({'nome_produto': 'Lasanha'}, {'preco_produto': 9.90})"
      ],
      "execution_count": 15,
      "outputs": [
        {
          "output_type": "execute_result",
          "data": {
            "text/plain": [
              "1"
            ]
          },
          "metadata": {
            "tags": []
          },
          "execution_count": 15
        }
      ]
    },
    {
      "cell_type": "markdown",
      "metadata": {
        "id": "ENrTb5lvBpuF"
      },
      "source": [
        "**Excluindo documentos**"
      ]
    },
    {
      "cell_type": "code",
      "metadata": {
        "id": "XB9F7SpoB1-m",
        "outputId": "0ee91695-426c-41bc-b74e-3ba87fb965c5",
        "colab": {
          "base_uri": "https://localhost:8080/"
        }
      },
      "source": [
        "collection_pessoa = db.collection('pessoa')\n",
        "collection_pessoa.delete_match({'nome_pessoa': 'Merlin de Avalon'})"
      ],
      "execution_count": 16,
      "outputs": [
        {
          "output_type": "execute_result",
          "data": {
            "text/plain": [
              "1"
            ]
          },
          "metadata": {
            "tags": []
          },
          "execution_count": 16
        }
      ]
    },
    {
      "cell_type": "code",
      "metadata": {
        "id": "03VcSKtbCDu-",
        "outputId": "8ae67782-0c9d-4057-d5ff-1c8a519a4662",
        "colab": {
          "base_uri": "https://localhost:8080/"
        }
      },
      "source": [
        "collection_produto = db.collection('produto')\n",
        "collection_produto.delete_match({'nome_produto': 'Vitamina C'})"
      ],
      "execution_count": 17,
      "outputs": [
        {
          "output_type": "execute_result",
          "data": {
            "text/plain": [
              "1"
            ]
          },
          "metadata": {
            "tags": []
          },
          "execution_count": 17
        }
      ]
    }
  ]
}